{
 "cells": [
  {
   "cell_type": "markdown",
   "metadata": {
    "papermill": {
     "duration": 0.005029,
     "end_time": "2019-01-01T02:42:18.464801",
     "exception": false,
     "start_time": "2019-01-01T02:42:18.459772",
     "status": "completed"
    },
    "tags": []
   },
   "source": [
    "# Introduction\n",
    "\n",
    "Some text\n"
   ]
  },
  {
   "cell_type": "code",
   "execution_count": 1,
   "metadata": {
    "papermill": {
     "duration": 0.371724,
     "end_time": "2019-01-01T02:42:18.843198",
     "exception": false,
     "start_time": "2019-01-01T02:42:18.471474",
     "status": "completed"
    },
    "tags": []
   },
   "outputs": [
    {
     "data": {
      "text/plain": [
       "<Figure size 640x480 with 1 Axes>"
      ]
     },
     "metadata": {},
     "output_type": "display_data"
    }
   ],
   "source": [
    "import numpy as np\n",
    "import matplotlib.pyplot as plt\n",
    "# %% scatter\n",
    "N = 50\n",
    "x = np.random.rand(N)\n",
    "y = np.random.rand(N)\n",
    "colors = np.random.rand(N)\n",
    "area = np.pi * (15 * np.random.rand(N))**2  # 0 to 15 point radii\n",
    "plt.scatter(x, y, s=area, c=colors, alpha=0.5)\n",
    "plt.show()\n"
   ]
  },
  {
   "cell_type": "markdown",
   "metadata": {
    "papermill": {
     "duration": 0.006051,
     "end_time": "2019-01-01T02:42:18.851880",
     "exception": false,
     "start_time": "2019-01-01T02:42:18.845829",
     "status": "completed"
    },
    "tags": []
   },
   "source": [
    "# Final thoughts\n",
    "\n",
    "Some more text\n"
   ]
  }
 ],
 "metadata": {
  "language_info": {
   "codemirror_mode": {
    "name": "ipython",
    "version": 3
   },
   "file_extension": ".py",
   "mimetype": "text/x-python",
   "name": "python",
   "nbconvert_exporter": "python",
   "pygments_lexer": "ipython3",
   "version": "3.6.6"
  },
  "papermill": {
   "duration": 2.371997,
   "end_time": "2019-01-01T02:42:19.920326",
   "environment_variables": {},
   "exception": null,
   "input_path": "raw.ipynb",
   "output_path": "executed/raw_executed.ipynb",
   "parameters": {},
   "start_time": "2019-01-01T02:42:17.548329",
   "version": "0.16.2"
  }
 },
 "nbformat": 4,
 "nbformat_minor": 2
}