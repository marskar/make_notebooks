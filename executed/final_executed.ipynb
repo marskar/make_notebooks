{
 "cells": [
  {
   "cell_type": "markdown",
   "metadata": {
    "papermill": {
     "duration": 0.005036,
     "end_time": "2019-01-01T02:42:14.357500",
     "exception": false,
     "start_time": "2019-01-01T02:42:14.352464",
     "status": "completed"
    },
    "tags": []
   },
   "source": [
    "# Introduction\n",
    "\n",
    "Some text\n"
   ]
  },
  {
   "cell_type": "code",
   "execution_count": 1,
   "metadata": {
    "papermill": {
     "duration": 0.706187,
     "end_time": "2019-01-01T02:42:15.070307",
     "exception": false,
     "start_time": "2019-01-01T02:42:14.364120",
     "status": "completed"
    },
    "tags": []
   },
   "outputs": [
    {
     "data": {
      "text/plain": [
       "<Figure size 640x480 with 1 Axes>"
      ]
     },
     "metadata": {},
     "output_type": "display_data"
    }
   ],
   "source": [
    "import numpy as np\n",
    "import matplotlib.pyplot as plt\n",
    "# %% scatterplot\n",
    "N = 50\n",
    "x = np.random.rand(N)\n",
    "y = np.random.rand(N)\n",
    "colors = np.random.rand(N)\n",
    "area = np.pi * (15 * np.random.rand(N))**2  # 0 to 15 point radii\n",
    "plt.scatter(x, y, s=area, c=colors, alpha=0.5)\n",
    "plt.show()\n"
   ]
  },
  {
   "cell_type": "markdown",
   "metadata": {
    "papermill": {
     "duration": 0.002192,
     "end_time": "2019-01-01T02:42:15.075013",
     "exception": false,
     "start_time": "2019-01-01T02:42:15.072821",
     "status": "completed"
    },
    "tags": []
   },
   "source": [
    "# Final thoughts\n",
    "\n",
    "Some more text\n"
   ]
  }
 ],
 "metadata": {
  "language_info": {
   "codemirror_mode": {
    "name": "ipython",
    "version": 3
   },
   "file_extension": ".py",
   "mimetype": "text/x-python",
   "name": "python",
   "nbconvert_exporter": "python",
   "pygments_lexer": "ipython3",
   "version": "3.6.6"
  },
  "papermill": {
   "duration": 2.45614,
   "end_time": "2019-01-01T02:42:15.672237",
   "environment_variables": {},
   "exception": null,
   "input_path": "final.ipynb",
   "output_path": "executed/final_executed.ipynb",
   "parameters": {},
   "start_time": "2019-01-01T02:42:13.216097",
   "version": "0.16.2"
  }
 },
 "nbformat": 4,
 "nbformat_minor": 2
}